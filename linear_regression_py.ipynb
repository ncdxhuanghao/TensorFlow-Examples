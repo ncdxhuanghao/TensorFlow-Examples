{
  "nbformat": 4,
  "nbformat_minor": 0,
  "metadata": {
    "colab": {
      "name": "linear_regression.py",
      "provenance": [],
      "collapsed_sections": [],
      "toc_visible": true,
      "include_colab_link": true
    },
    "kernelspec": {
      "name": "python3",
      "display_name": "Python 3"
    }
  },
  "cells": [
    {
      "cell_type": "markdown",
      "metadata": {
        "id": "view-in-github",
        "colab_type": "text"
      },
      "source": [
        "<a href=\"https://colab.research.google.com/github/ncdxhuanghao/TensorFlow-Examples/blob/master/linear_regression_py.ipynb\" target=\"_parent\"><img src=\"https://colab.research.google.com/assets/colab-badge.svg\" alt=\"Open In Colab\"/></a>"
      ]
    },
    {
      "cell_type": "code",
      "metadata": {
        "id": "9xPOT5oMsn1o",
        "colab_type": "code",
        "colab": {}
      },
      "source": [
        ""
      ],
      "execution_count": 0,
      "outputs": []
    },
    {
      "cell_type": "code",
      "metadata": {
        "id": "xK7o8R3h0lpL",
        "colab_type": "code",
        "colab": {}
      },
      "source": [
        ""
      ],
      "execution_count": 0,
      "outputs": []
    },
    {
      "cell_type": "code",
      "metadata": {
        "id": "mNf6EZo8921I",
        "colab_type": "code",
        "outputId": "db9cee07-0bf0-4669-f039-e5c69048ed1f",
        "colab": {
          "base_uri": "https://localhost:8080/",
          "height": 466
        }
      },
      "source": [
        "from __future__ import absolute_import,division,print_function\n",
        "import matplotlib.pyplot as plt \n",
        "import numpy as np \n",
        "import tensorflow as tf\n",
        "\n",
        "#Set Eager API \n",
        "tf.enable_eager_execution()\n",
        "tfe=tf.contrib.eager \n",
        "#Training Data\n",
        "train_X = [3.3, 4.4, 5.5, 6.71, 6.93, 4.168, 9.779, 6.182, 7.59, 2.167,\n",
        "           7.042, 10.791, 5.313, 7.997, 5.654, 9.27, 3.1]\n",
        "train_Y = [1.7, 2.76, 2.09, 3.19, 1.694, 1.573, 3.366, 2.596, 2.53, 1.221,\n",
        "           2.827, 3.465, 1.65, 2.904, 2.42, 2.94, 1.3]\n",
        "n_samples=len(train_X)\n",
        "#Parameters\n",
        "learning_rate=0.01\n",
        "display_step=100\n",
        "num_steps=1000\n",
        "#Weight and Bias \n",
        "W=tfe.Variable(np.random.randn())\n",
        "b=tfe.Variable(np.random.randn())\n",
        "\n",
        "#Linear regression(Wx+b)\n",
        "def linear_regression(inputs):\n",
        "  return inputs*W+b\n",
        "#Mean square error \n",
        "def mean_square_fn(model_fn,inputs,labels):\n",
        "  return tf.reduce_sum(tf.pow(model_fn(inputs)-labels,2)) /(2*n_samples)\n",
        "\n",
        "#SGD Optimizer\n",
        "optimizer=tf.train.GradientDescentOptimizer(learning_rate=learning_rate)\n",
        "#Computer gradients \n",
        "grad = tfe.implicit_gradients(mean_square_fn)\n",
        "#Initial cost,before optimizing\n",
        "print(\"Initial cost={:.9f}\".format(mean_square_fn(linear_regression,train_X,train_Y)),\n",
        "      \"W=\",W.numpy(),\"b=\",b.numpy())\n",
        "#Training \n",
        "for step in range(num_steps):\n",
        "  optimizer.apply_gradients(grad(linear_regression,train_X,train_Y))\n",
        "  if(step+1)%display_step ==0 or step==0:\n",
        "    print(\"Eporch:\",'%04d'%(step+1),\n",
        "          \"cost=\",\"{:.9f}\".format(mean_square_fn(linear_regression,train_X,train_Y)),\n",
        "          \"W=\",W.numpy(),\"b=\",b.numpy())\n",
        "\n",
        "#Graphic display\n",
        "plt.plot(train_X,train_Y,'ro',label='Original data')\n",
        "plt.plot(train_X,np.array(W*train_X+b),label='Fitted line')\n",
        "plt.legend()\n",
        "plt.show()    \n"
      ],
      "execution_count": 0,
      "outputs": [
        {
          "output_type": "stream",
          "text": [
            "Initial cost=0.198590577 W= 0.11790231 b= 1.2506583\n",
            "Eporch: 0001 cost= 0.122704856 W= 0.14897586 b= 1.2544699\n",
            "Eporch: 0100 cost= 0.087270781 W= 0.19397946 b= 1.2075527\n",
            "Eporch: 0200 cost= 0.085040450 W= 0.20057353 b= 1.1608036\n",
            "Eporch: 0300 cost= 0.083291113 W= 0.20641339 b= 1.1194018\n",
            "Eporch: 0400 cost= 0.081919014 W= 0.21158542 b= 1.0827343\n",
            "Eporch: 0500 cost= 0.080842815 W= 0.2161659 b= 1.0502607\n",
            "Eporch: 0600 cost= 0.079998747 W= 0.22022252 b= 1.0215012\n",
            "Eporch: 0700 cost= 0.079336688 W= 0.22381516 b= 0.996031\n",
            "Eporch: 0800 cost= 0.078817405 W= 0.22699693 b= 0.9734736\n",
            "Eporch: 0900 cost= 0.078410119 W= 0.22981477 b= 0.9534964\n",
            "Eporch: 1000 cost= 0.078090645 W= 0.2323104 b= 0.9358036\n"
          ],
          "name": "stdout"
        },
        {
          "output_type": "display_data",
          "data": {
            "image/png": "[encoded data removed]",
            "text/plain": [
              "<Figure size 432x288 with 1 Axes>"
            ]
          },
          "metadata": {
            "tags": []
          }
        }
      ]
    }
  ]
}